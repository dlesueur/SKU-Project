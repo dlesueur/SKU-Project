{
 "cells": [
  {
   "cell_type": "code",
   "id": "initial_id",
   "metadata": {
    "collapsed": true,
    "ExecuteTime": {
     "end_time": "2024-12-10T18:51:56.417298Z",
     "start_time": "2024-12-10T18:51:55.363529Z"
    }
   },
   "source": [
    "import pandas as pd\n",
    "import numpy as np\n",
    "from sklearn.impute import SimpleImputer\n",
    "from sklearn.preprocessing import PolynomialFeatures, StandardScaler\n",
    "from sklearn.linear_model import LinearRegression\n",
    "from sklearn.metrics import mean_squared_error\n",
    "from sklearn.pipeline import Pipeline\n",
    "from sklearn.neighbors import KNeighborsRegressor\n",
    "from sklearn.model_selection import GridSearchCV, train_test_split"
   ],
   "outputs": [],
   "execution_count": 1
  },
  {
   "metadata": {
    "ExecuteTime": {
     "end_time": "2024-12-10T18:51:58.813240Z",
     "start_time": "2024-12-10T18:51:58.503567Z"
    }
   },
   "cell_type": "code",
   "source": [
    "data = pd.read_csv('data.csv')\n",
    "data = data.dropna()\n",
    "data['week_start'] = pd.to_datetime(data['week_start'])\n",
    "data['customerId'] = data['customerId'].astype(int)\n",
    "data['itemSkuNumber'] = data['itemSkuNumber'].astype(str)\n",
    "data['description'] = data['description'].astype(str)\n",
    "data['created_date'] = pd.to_datetime(data['created_date'])\n",
    "data['first_pick'] = pd.to_datetime(data['first_pick'])\n",
    "data['type'] = data['type'].astype(str)\n",
    "data['skuLine'] = data['skuLine'].astype(str)\n",
    "data['days_since_first_pick'] = data['days_since_first_pick'].astype(int)"
   ],
   "id": "b23376c4fafe2017",
   "outputs": [
    {
     "name": "stdout",
     "output_type": "stream",
     "text": [
      "week_start               datetime64[ns]\n",
      "qtySold                           int64\n",
      "customerId                        int64\n",
      "itemSkuNumber                    object\n",
      "description                      object\n",
      "created_date             datetime64[ns]\n",
      "first_pick               datetime64[ns]\n",
      "type                             object\n",
      "skuLine                          object\n",
      "month_created                    object\n",
      "sales_month                      object\n",
      "days_since_first_pick             int64\n",
      "dtype: object\n"
     ]
    }
   ],
   "execution_count": 2
  },
  {
   "metadata": {
    "ExecuteTime": {
     "end_time": "2024-12-10T18:55:45.288344Z",
     "start_time": "2024-12-10T18:55:45.260257Z"
    }
   },
   "cell_type": "code",
   "source": "data['itemSkuNumber'].nunique()",
   "id": "2ca0ce7c97bc32f2",
   "outputs": [
    {
     "data": {
      "text/plain": [
       "21802"
      ]
     },
     "execution_count": 5,
     "metadata": {},
     "output_type": "execute_result"
    }
   ],
   "execution_count": 5
  },
  {
   "metadata": {},
   "cell_type": "code",
   "outputs": [],
   "execution_count": null,
   "source": "",
   "id": "6462b7bfdf40db65"
  }
 ],
 "metadata": {
  "kernelspec": {
   "display_name": "Python 3",
   "language": "python",
   "name": "python3"
  },
  "language_info": {
   "codemirror_mode": {
    "name": "ipython",
    "version": 2
   },
   "file_extension": ".py",
   "mimetype": "text/x-python",
   "name": "python",
   "nbconvert_exporter": "python",
   "pygments_lexer": "ipython2",
   "version": "2.7.6"
  }
 },
 "nbformat": 4,
 "nbformat_minor": 5
}
